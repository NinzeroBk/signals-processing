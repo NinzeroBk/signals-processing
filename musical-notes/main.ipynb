{
 "cells": [
  {
   "cell_type": "code",
   "execution_count": 27,
   "metadata": {
    "collapsed": false,
    "pycharm": {
     "name": "#%%\n"
    }
   },
   "outputs": [],
   "source": [
    "from typing import Tuple\n",
    "import numpy as np\n",
    "\n",
    "\n",
    "def sine(amplitude: float, frequency: float, time: float, phase: float) -> np.ndarray:\n",
    "    return amplitude * np.sin(2 * np.pi * frequency * time + phase)\n",
    "\n",
    "\n",
    "def tone(sample_rate: float, time_of_view: float, **kwargs: float) -> Tuple[np.ndarray, ...]:\n",
    "    sample_period = 1 / sample_rate\n",
    "    total_samples = time_of_view / sample_period\n",
    "    time_points = np.linspace(0, time_of_view, int(total_samples))\n",
    "    return time_points, sine(**kwargs, time=time_points)\n",
    "\n",
    "\n",
    "def play_tone(signal: np.ndarray, play: bool) -> None:\n",
    "    if play:\n",
    "        sound_wave = signal.astype(np.int16)\n",
    "        sd.stop()\n",
    "        sd.play(sound_wave, blocking=False)\n",
    "    else:\n",
    "        sd.stop()\n"
   ]
  },
  {
   "cell_type": "code",
   "execution_count": 28,
   "metadata": {
    "collapsed": false,
    "pycharm": {
     "name": "#%%\n"
    }
   },
   "outputs": [],
   "source": [
    "import sounddevice as sd\n",
    "\n",
    "# TODO: find the proper frequencies for each tone\n",
    "# Configure tone values\n",
    "sampling_rate = 44_100\n",
    "amplitude = 10_000\n",
    "time_of_view = 2\n",
    "phase = 0\n",
    "\n",
    "# Configure the player\n",
    "sd.default.samplerate = sampling_rate\n",
    "\n",
    "# Map tone values to frequencies\n",
    "tone_frequencies = [\n",
    "    ('Do', 440),\n",
    "    ('Re', 493.883),\n",
    "    ('Mi', 554.3653),\n",
    "    ('Fa', 587.3295),\n",
    "    ('Sol', 659.2551),\n",
    "    ('La', 739.9888),\n",
    "    ('Si', 830.6094),\n",
    "    ('Do\\'', 880)\n",
    "]\n",
    "\n",
    "# Create tone values\n",
    "time_points = None\n",
    "tones = dict()\n",
    "\n",
    "# Instantiate each tone\n",
    "for (note, freq) in tone_frequencies:\n",
    "    time_points, tones[note] = tone(\n",
    "        amplitude=amplitude,\n",
    "        frequency=freq,\n",
    "        sample_rate=sampling_rate,\n",
    "        time_of_view=time_of_view,\n",
    "        phase=phase\n",
    "    )\n"
   ]
  },
  {
   "cell_type": "code",
   "execution_count": 29,
   "metadata": {},
   "outputs": [],
   "source": [
    "def play_sound(note, play):\n",
    "    play_tone(tones[note], play)"
   ]
  },
  {
   "cell_type": "code",
   "execution_count": 30,
   "metadata": {},
   "outputs": [
    {
     "data": {
      "application/vnd.jupyter.widget-view+json": {
       "model_id": "b2475ea6c51546bcb384fcba931aafd7",
       "version_major": 2,
       "version_minor": 0
      },
      "text/plain": [
       "HBox(children=(Dropdown(description='Tone', options=('Do', 'Re', 'Mi', 'Fa', 'Sol', 'La', 'Si', \"Do'\"), value=…"
      ]
     },
     "metadata": {},
     "output_type": "display_data"
    }
   ],
   "source": [
    "from IPython.display import display\n",
    "import ipywidgets as widgets\n",
    "\n",
    "play_toggle = widgets.ToggleButton(\n",
    "    value=False,\n",
    "    description='Play Tone',\n",
    "    disabled=False,\n",
    "    button_style='',\n",
    "    tooltip='Play Tone',\n",
    "    icon='play'\n",
    ")\n",
    "\n",
    "dropdown = widgets.Dropdown(\n",
    "    options=[note for (note, freq) in tone_frequencies],\n",
    "    value=tone_frequencies[0][0],\n",
    "    description='Tone'\n",
    ")\n",
    "\n",
    "controls = widgets.interactive(play_sound, note=dropdown, play=play_toggle)\n",
    "\n",
    "h_box = widgets.HBox(\n",
    "    controls.children\n",
    ")\n",
    "\n",
    "display(h_box)"
   ]
  },
  {
   "cell_type": "code",
   "execution_count": 19,
   "metadata": {},
   "outputs": [],
   "source": [
    "import pretty_midi\n",
    "\n",
    "# Transform MIDI note to frequency\n",
    "# https://www.inspiredacoustics.com/en/MIDI_note_numbers_and_center_frequencies\n",
    "def midi_note_to_freq(midi_note: int) -> float:\n",
    "    if midi_note < 0 or midi_note > 127:\n",
    "        raise Exception('A MIDI note must be between [0, 127]')\n",
    "    return np.round(440 * np.power(2, (midi_note - 69) / 12), 2)\n",
    "\n",
    "def create_song_from_midi(filepath, sample_rate, amplitude):\n",
    "    # Read and parse the input midi file\n",
    "    midi_data = pretty_midi.PrettyMIDI(filepath)\n",
    "\n",
    "    # Configure the sound properties\n",
    "    end_of_time = 0\n",
    "    sampling_rate = sample_rate\n",
    "    phase = 0\n",
    "\n",
    "    # Configure the player\n",
    "    sd.default.samplerate = sampling_rate\n",
    "\n",
    "    # Find end of songs\n",
    "    for instrument in midi_data.instruments:\n",
    "        for note in instrument.notes:\n",
    "            end_of_time = max(end_of_time, note.end)\n",
    "\n",
    "    # Create final composed song signal\n",
    "    song_signal = np.zeros(int(np.ceil(end_of_time * sampling_rate)))\n",
    "\n",
    "    # Create sound tones\n",
    "    for instrument in midi_data.instruments:\n",
    "        for note in instrument.notes:\n",
    "            # Calculate sound properties\n",
    "            duration = note.end - note.start\n",
    "            frequency = midi_note_to_freq(note.pitch)\n",
    "\n",
    "            # Generate sinusoidal sound tone\n",
    "            _, sound_note = tone(\n",
    "                amplitude=amplitude,\n",
    "                frequency=frequency,\n",
    "                sample_rate=sampling_rate,\n",
    "                time_of_view=duration,\n",
    "                phase=phase\n",
    "            )\n",
    "\n",
    "            # Calculate when the tone enters the song\n",
    "            start_of_tone = int(np.floor(sampling_rate * note.start))\n",
    "            tone_duration = int(np.floor(sampling_rate * duration))\n",
    "\n",
    "            # Compose song with the sound_tone at the proper position\n",
    "            song_signal[start_of_tone:(start_of_tone + tone_duration)] += sound_note\n",
    "\n",
    "    # Return the composed song singals\n",
    "    return song_signal"
   ]
  },
  {
   "cell_type": "code",
   "execution_count": 32,
   "metadata": {},
   "outputs": [
    {
     "data": {
      "application/vnd.jupyter.widget-view+json": {
       "model_id": "3f498b1107664bde9dbc4711c8341fd2",
       "version_major": 2,
       "version_minor": 0
      },
      "text/plain": [
       "HBox(children=(Dropdown(description='MIDI File:', index=2, options=('./music-sheets/cyh.mid', './music-sheets/…"
      ]
     },
     "metadata": {},
     "output_type": "display_data"
    }
   ],
   "source": [
    "import os\n",
    "\n",
    "dir = './music-sheets'\n",
    "\n",
    "midis = [\n",
    "    f'{dir}/{filename}'\n",
    "    for filename in os.listdir(dir)\n",
    "]\n",
    "\n",
    "amplitude_slider = widgets.FloatSlider(\n",
    "    value=10_000,\n",
    "    min=0,\n",
    "    max=20_000,\n",
    "    step=10,\n",
    "    description='Amplitude:',\n",
    "    disabled=False,\n",
    "    continuous_update=False,\n",
    "    orientation='horizontal',\n",
    "    readout=True,\n",
    "    readout_format='.1f',\n",
    ")\n",
    "\n",
    "sample_rate_slider = widgets.FloatSlider(\n",
    "    value=44_100,\n",
    "    min=1_000,\n",
    "    max=80_000,\n",
    "    step=10,\n",
    "    description='Sample Rate:',\n",
    "    disabled=False,\n",
    "    continuous_update=False,\n",
    "    orientation='horizontal',\n",
    "    readout=True,\n",
    "    readout_format='.1f',\n",
    ")\n",
    "\n",
    "play_toggle = widgets.ToggleButton(\n",
    "    description='Play Song',\n",
    "    disabled=False,\n",
    "    button_style='',\n",
    "    tooltip='Play Song',\n",
    "    icon='play'\n",
    ")\n",
    "\n",
    "dropdown = widgets.Dropdown(\n",
    "    options=midis,\n",
    "    value='./music-sheets/ttls.mid',\n",
    "    description='MIDI File:'\n",
    ")\n",
    "\n",
    "def play_sound(filepath, play_state, amplitude, sample_rate):\n",
    "    if play_state == True:\n",
    "        song = create_song_from_midi(filepath, sample_rate, amplitude)\n",
    "    else:\n",
    "        song = np.empty(1)\n",
    "\n",
    "    play_tone(song, play_state)\n",
    "\n",
    "widgets.interactive(\n",
    "    play_sound,\n",
    "    filepath=dropdown,\n",
    "    play_state=play_toggle,\n",
    "    amplitude=amplitude_slider,\n",
    "    sample_rate=sample_rate_slider\n",
    ")\n",
    "\n",
    "display(\n",
    "    widgets.HBox(\n",
    "        (\n",
    "            dropdown,\n",
    "            play_toggle,\n",
    "            amplitude_slider,\n",
    "            sample_rate_slider,\n",
    "        )\n",
    "    ),\n",
    ")"
   ]
  }
 ],
 "metadata": {
  "interpreter": {
   "hash": "bf00c7575e09074cb6e24656f5a0cab7f20ce4b75deab46d60ea6b56765bd833"
  },
  "kernelspec": {
   "display_name": "Python 3.7.9 64-bit ('venv': venv)",
   "language": "python",
   "name": "python3"
  },
  "language_info": {
   "codemirror_mode": {
    "name": "ipython",
    "version": 3
   },
   "file_extension": ".py",
   "mimetype": "text/x-python",
   "name": "python",
   "nbconvert_exporter": "python",
   "pygments_lexer": "ipython3",
   "version": "3.7.9"
  },
  "orig_nbformat": 4
 },
 "nbformat": 4,
 "nbformat_minor": 2
}
