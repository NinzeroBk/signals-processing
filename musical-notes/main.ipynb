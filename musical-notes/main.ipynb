{
 "cells": [
  {
   "cell_type": "code",
   "execution_count": 1,
   "metadata": {
    "collapsed": false,
    "pycharm": {
     "name": "#%%\n"
    }
   },
   "outputs": [],
   "source": [
    "from typing import Tuple\n",
    "import numpy as np\n",
    "\n",
    "\n",
    "def sine(amplitude: float, frequency: float, time: float, phase: float) -> np.ndarray:\n",
    "    return amplitude * np.sin(2 * np.pi * frequency * time + phase)\n",
    "\n",
    "\n",
    "def tone(sample_rate: float, time_of_view: float, **kwargs: float) -> Tuple[np.ndarray, ...]:\n",
    "    sample_period = 1 / sample_rate\n",
    "    total_samples = time_of_view / sample_period\n",
    "    time_points = np.linspace(0, time_of_view, int(total_samples))\n",
    "    return time_points, sine(**kwargs, time=time_points)\n",
    "\n",
    "\n",
    "def play_tone(signal: np.ndarray, play: bool) -> None:\n",
    "    if play:\n",
    "        sound_wave = signal.astype(np.int16)\n",
    "        sd.stop()\n",
    "        sd.play(sound_wave, blocking=False)\n",
    "    else:\n",
    "        sd.stop()\n"
   ]
  },
  {
   "cell_type": "code",
   "execution_count": 6,
   "metadata": {
    "collapsed": false,
    "pycharm": {
     "name": "#%%\n"
    }
   },
   "outputs": [],
   "source": [
    "import sounddevice as sd\n",
    "\n",
    "# TODO: find the proper frequencies for each tone\n",
    "# Configure tone values\n",
    "sampling_rate = 44_100\n",
    "amplitude = 10_000\n",
    "time_of_view = 2\n",
    "phase = 0\n",
    "\n",
    "# Configure the player\n",
    "sd.default.samplerate = sampling_rate\n",
    "\n",
    "# Map tone values to frequencies\n",
    "tone_frequencies = [\n",
    "    ('Do', 440),\n",
    "    ('Re', 493.883),\n",
    "    ('Mi', 554.3653),\n",
    "    ('Fa', 587.3295),\n",
    "    ('Sol', 659.2551),\n",
    "    ('La', 739.9888),\n",
    "    ('Si', 830.6094),\n",
    "    ('Do\\'', 880)\n",
    "]\n",
    "\n",
    "# Create tone values\n",
    "time_points = None\n",
    "tones = dict()\n",
    "\n",
    "# Instantiate each tone\n",
    "for (note, freq) in tone_frequencies:\n",
    "    time_points, tones[note] = tone(\n",
    "        amplitude=amplitude,\n",
    "        frequency=freq,\n",
    "        sample_rate=sampling_rate,\n",
    "        time_of_view=time_of_view,\n",
    "        phase=phase\n",
    "    )\n"
   ]
  },
  {
   "cell_type": "code",
   "execution_count": 10,
   "metadata": {},
   "outputs": [],
   "source": [
    "def play_sound(note, play):\n",
    "    play_tone(tones[note], play)"
   ]
  },
  {
   "cell_type": "code",
   "execution_count": 11,
   "metadata": {},
   "outputs": [
    {
     "data": {
      "application/vnd.jupyter.widget-view+json": {
       "model_id": "2895e7d1a6bc42dbaa7aa36c523ef30d",
       "version_major": 2,
       "version_minor": 0
      },
      "text/plain": [
       "HBox(children=(Dropdown(description='Tone', options=('Do', 'Re', 'Mi', 'Fa', 'Sol', 'La', 'Si', \"Do'\"), value=…"
      ]
     },
     "metadata": {},
     "output_type": "display_data"
    }
   ],
   "source": [
    "from IPython.display import display\n",
    "import ipywidgets as widgets\n",
    "\n",
    "play_toggle = widgets.ToggleButton(\n",
    "    value=False,\n",
    "    description='Play Tone',\n",
    "    disabled=False,\n",
    "    button_style='',\n",
    "    tooltip='Play Tone',\n",
    "    icon='play'\n",
    ")\n",
    "\n",
    "dropdown = widgets.Dropdown(\n",
    "    options=[note for (note, freq) in tone_frequencies],\n",
    "    value=tone_frequencies[0][0],\n",
    "    description='Tone'\n",
    ")\n",
    "\n",
    "controls = widgets.interactive(play_sound, note=dropdown, play=play_toggle)\n",
    "\n",
    "h_box = widgets.HBox(\n",
    "    controls.children\n",
    ")\n",
    "\n",
    "display(h_box)"
   ]
  }
 ],
 "metadata": {
  "interpreter": {
   "hash": "bf00c7575e09074cb6e24656f5a0cab7f20ce4b75deab46d60ea6b56765bd833"
  },
  "kernelspec": {
   "display_name": "Python 3.7.9 64-bit ('venv': venv)",
   "language": "python",
   "name": "python3"
  },
  "language_info": {
   "codemirror_mode": {
    "name": "ipython",
    "version": 3
   },
   "file_extension": ".py",
   "mimetype": "text/x-python",
   "name": "python",
   "nbconvert_exporter": "python",
   "pygments_lexer": "ipython3",
   "version": "3.7.9"
  },
  "orig_nbformat": 4
 },
 "nbformat": 4,
 "nbformat_minor": 2
}
