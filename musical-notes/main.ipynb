{
 "cells": [
  {
   "cell_type": "code",
   "execution_count": 58,
   "metadata": {
    "collapsed": false,
    "pycharm": {
     "name": "#%%\n"
    }
   },
   "outputs": [],
   "source": [
    "import numpy as np\n",
    "\n",
    "\n",
    "def sine(amplitude: float, frequency: float, time: float, phase: float) -> np.ndarray:\n",
    "    return amplitude * np.sin(2 * np.pi * frequency * time + phase)\n",
    "\n",
    "\n",
    "def tone(sample_rate: float, time_of_view: float, **kwargs: float) -> np.ndarray:\n",
    "    sample_period = 1 / sample_rate\n",
    "    total_samples = time_of_view / sample_period\n",
    "    time_points = np.linspace(0, time_of_view, int(total_samples))\n",
    "    return sine(**kwargs, time=time_points, phase=0.0)\n",
    "\n",
    "\n",
    "def play_tone(signal: np.ndarray, play: bool) -> None:\n",
    "    if play:\n",
    "        sound_wave = signal.astype(np.int16)\n",
    "        sd.play(sound_wave, blocking=True)\n",
    "    sd.stop()"
   ]
  },
  {
   "cell_type": "code",
   "execution_count": 61,
   "metadata": {
    "collapsed": false,
    "pycharm": {
     "name": "#%%\n"
    }
   },
   "outputs": [],
   "source": [
    "import sounddevice as sd\n",
    "\n",
    "# TODO: find the proper frequencies for each tone\n",
    "# Configure tone values\n",
    "sampling_rate = 44_100\n",
    "amplitude = 10_000\n",
    "time_of_view = 2\n",
    "\n",
    "# Configure the player\n",
    "sd.default.samplerate = sampling_rate\n",
    "\n",
    "# Map tone values to frequencies\n",
    "tone_frequencies = [\n",
    "    ('Do', 440),\n",
    "    ('Re', 493.883),\n",
    "    ('Mi', 554.3653),\n",
    "    ('Fa', 587.3295),\n",
    "    ('Sol', 659.2551),\n",
    "    ('La', 739.9888),\n",
    "    ('Si', 830.6094),\n",
    "    ('Do\\'', 880)\n",
    "]\n",
    "\n",
    "# Create tone values\n",
    "tones = dict()\n",
    "\n",
    "# Instantiate each tone\n",
    "for (note, freq) in tone_frequencies:\n",
    "    tones[note] = tone(\n",
    "        amplitude=amplitude,\n",
    "        frequency=freq,\n",
    "        sample_rate=sampling_rate,\n",
    "        time_of_view=time_of_view,\n",
    "    )"
   ]
  },
  {
   "cell_type": "code",
   "execution_count": 62,
   "metadata": {},
   "outputs": [
    {
     "data": {
      "application/vnd.jupyter.widget-view+json": {
       "model_id": "2f9917c717294e3690e116af02502a76",
       "version_major": 2,
       "version_minor": 0
      },
      "text/plain": [
       "HBox(children=(Dropdown(description='Tone', options=('Do', 'Re', 'Mi', 'Fa', 'Sol', 'La', 'Si', \"Do'\"), value=…"
      ]
     },
     "metadata": {},
     "output_type": "display_data"
    }
   ],
   "source": [
    "from IPython.display import display\n",
    "import ipywidgets as widgets\n",
    "\n",
    "play_toggle = widgets.ToggleButton(\n",
    "    value=False,\n",
    "    description='Play Tone',\n",
    "    disabled=False,\n",
    "    button_style='',\n",
    "    tooltip='Play Tone',\n",
    "    icon='play'\n",
    ")\n",
    "\n",
    "dropdown = widgets.Dropdown(\n",
    "    options=[note for (note, freq) in tone_frequencies],\n",
    "    value=tone_frequencies[0][0],\n",
    "    description='Tone'\n",
    ")\n",
    "\n",
    "\n",
    "def play_sound(note, play):\n",
    "    play_tone(tones[note], play)\n",
    "\n",
    "\n",
    "widget = widgets.interactive(play_sound, note=dropdown, play=play_toggle)\n",
    "h_box = widgets.HBox(\n",
    "    widget.children\n",
    ")\n",
    "\n",
    "display(h_box)\n"
   ]
  }
 ],
 "metadata": {
  "interpreter": {
   "hash": "bf00c7575e09074cb6e24656f5a0cab7f20ce4b75deab46d60ea6b56765bd833"
  },
  "kernelspec": {
   "display_name": "Python 3.7.9 64-bit ('venv': venv)",
   "language": "python",
   "name": "python3"
  },
  "language_info": {
   "codemirror_mode": {
    "name": "ipython",
    "version": 3
   },
   "file_extension": ".py",
   "mimetype": "text/x-python",
   "name": "python",
   "nbconvert_exporter": "python",
   "pygments_lexer": "ipython3",
   "version": "3.7.9"
  },
  "orig_nbformat": 4
 },
 "nbformat": 4,
 "nbformat_minor": 2
}
