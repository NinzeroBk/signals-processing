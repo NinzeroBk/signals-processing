{
 "cells": [
  {
   "cell_type": "code",
   "execution_count": 126,
   "metadata": {
    "collapsed": false,
    "pycharm": {
     "name": "#%%\n"
    }
   },
   "outputs": [],
   "source": [
    "from typing import Tuple\n",
    "import numpy as np\n",
    "\n",
    "\n",
    "def sine(amplitude: float, frequency: float, time: float, phase: float) -> np.ndarray:\n",
    "    return amplitude * np.sin(2 * np.pi * frequency * time + phase)\n",
    "\n",
    "\n",
    "def tone(sample_rate: float, time_of_view: float, **kwargs: float) -> Tuple[np.ndarray, ...]:\n",
    "    sample_period = 1 / sample_rate\n",
    "    total_samples = time_of_view / sample_period\n",
    "    time_points = np.linspace(0, time_of_view, int(total_samples))\n",
    "    return time_points, sine(**kwargs, time=time_points)\n",
    "\n",
    "\n",
    "def play_tone(signal: np.ndarray, play: bool) -> None:\n",
    "    if play:\n",
    "        sound_wave = signal.astype(np.int16)\n",
    "        sd.stop()\n",
    "        sd.play(sound_wave, blocking=False)\n",
    "    else:\n",
    "        sd.stop()\n"
   ]
  },
  {
   "cell_type": "code",
   "execution_count": 127,
   "metadata": {
    "collapsed": false,
    "pycharm": {
     "name": "#%%\n"
    }
   },
   "outputs": [],
   "source": [
    "import sounddevice as sd\n",
    "\n",
    "# TODO: find the proper frequencies for each tone\n",
    "# Configure tone values\n",
    "sampling_rate = 44_100\n",
    "amplitude = 10_000\n",
    "time_of_view = 2\n",
    "phase = 0\n",
    "\n",
    "# Configure the player\n",
    "sd.default.samplerate = sampling_rate\n",
    "\n",
    "# Map tone values to frequencies\n",
    "tone_frequencies = [\n",
    "    ('Do', 440),\n",
    "    ('Re', 493.883),\n",
    "    ('Mi', 554.3653),\n",
    "    ('Fa', 587.3295),\n",
    "    ('Sol', 659.2551),\n",
    "    ('La', 739.9888),\n",
    "    ('Si', 830.6094),\n",
    "    ('Do\\'', 880)\n",
    "]\n",
    "\n",
    "# Create tone values\n",
    "time_points = None\n",
    "tones = dict()\n",
    "\n",
    "# Instantiate each tone\n",
    "for (note, freq) in tone_frequencies:\n",
    "    time_points, tones[note] = tone(\n",
    "        amplitude=amplitude,\n",
    "        frequency=freq,\n",
    "        sample_rate=sampling_rate,\n",
    "        time_of_view=time_of_view,\n",
    "        phase=phase\n",
    "    )\n"
   ]
  },
  {
   "cell_type": "code",
   "execution_count": 128,
   "metadata": {},
   "outputs": [],
   "source": [
    "def play_sound(note, play):\n",
    "    play_tone(tones[note], play)"
   ]
  },
  {
   "cell_type": "code",
   "execution_count": 129,
   "metadata": {},
   "outputs": [
    {
     "data": {
      "application/vnd.jupyter.widget-view+json": {
       "model_id": "338443f35f824b5cb8fbc8c654f4d988",
       "version_major": 2,
       "version_minor": 0
      },
      "text/plain": [
       "HBox(children=(Dropdown(description='Tone', options=('Do', 'Re', 'Mi', 'Fa', 'Sol', 'La', 'Si', \"Do'\"), value=…"
      ]
     },
     "metadata": {},
     "output_type": "display_data"
    }
   ],
   "source": [
    "from IPython.display import display\n",
    "import ipywidgets as widgets\n",
    "\n",
    "play_toggle = widgets.ToggleButton(\n",
    "    value=False,\n",
    "    description='Play Tone',\n",
    "    disabled=False,\n",
    "    button_style='',\n",
    "    tooltip='Play Tone',\n",
    "    icon='play'\n",
    ")\n",
    "\n",
    "dropdown = widgets.Dropdown(\n",
    "    options=[note for (note, freq) in tone_frequencies],\n",
    "    value=tone_frequencies[0][0],\n",
    "    description='Tone'\n",
    ")\n",
    "\n",
    "controls = widgets.interactive(play_sound, note=dropdown, play=play_toggle)\n",
    "\n",
    "h_box = widgets.HBox(\n",
    "    controls.children\n",
    ")\n",
    "\n",
    "display(h_box)"
   ]
  },
  {
   "cell_type": "code",
   "execution_count": 130,
   "metadata": {},
   "outputs": [],
   "source": [
    "# from MIDI import MIDIFile\n",
    "\n",
    "# c = MIDIFile(music_sheet_filename)\n",
    "# c.parse()\n",
    "# for idx, track in enumerate(c):\n",
    "#         track.parse()\n",
    "#         print(f'Track {idx}:')\n",
    "#         print(str(track))\n"
   ]
  },
  {
   "cell_type": "code",
   "execution_count": 131,
   "metadata": {},
   "outputs": [
    {
     "name": "stdout",
     "output_type": "stream",
     "text": [
      "Instrument(program=0, is_drum=False, name=\"Piano\") Note(start=0.000000, end=0.601972, pitch=60, velocity=77)\n",
      "Instrument(program=0, is_drum=False, name=\"Piano\") Note(start=0.631577, end=1.233549, pitch=60, velocity=83)\n",
      "Instrument(program=0, is_drum=False, name=\"Piano\") Note(start=1.263154, end=2.464631, pitch=60, velocity=77)\n",
      "Instrument(program=0, is_drum=False, name=\"Piano\") Note(start=2.526308, end=3.727785, pitch=60, velocity=73)\n",
      "Instrument(program=0, is_drum=False, name=\"Piano\") Note(start=3.789462, end=4.990939, pitch=60, velocity=75)\n",
      "Instrument(program=0, is_drum=False, name=\"Piano\") Note(start=8.842078, end=10.043555, pitch=60, velocity=81)\n",
      "Instrument(program=0, is_drum=False, name=\"Piano\") Note(start=10.105232, end=11.306709, pitch=60, velocity=80)\n",
      "Instrument(program=0, is_drum=False, name=\"Piano\") Note(start=15.157848, end=16.359325, pitch=60, velocity=76)\n",
      "Instrument(program=0, is_drum=False, name=\"Piano\") Note(start=20.210464, end=20.812436, pitch=60, velocity=82)\n",
      "Instrument(program=0, is_drum=False, name=\"Piano\") Note(start=20.842041, end=21.444013, pitch=60, velocity=83)\n",
      "Instrument(program=0, is_drum=False, name=\"Piano\") Note(start=21.473618, end=22.675095, pitch=60, velocity=80)\n",
      "Instrument(program=0, is_drum=False, name=\"Piano\") Note(start=22.736772, end=23.938249, pitch=60, velocity=69)\n",
      "Instrument(program=0, is_drum=False, name=\"Piano\") Note(start=23.999926, end=25.201403, pitch=60, velocity=72)\n",
      "Instrument(program=0, is_drum=False, name=\"Piano\") Note(start=29.052542, end=30.254019, pitch=60, velocity=80)\n"
     ]
    }
   ],
   "source": [
    "import pretty_midi\n",
    "\n",
    "# Read and parse the input midi file\n",
    "music_sheet_filename = \"./music-sheets/ttls.mid\"\n",
    "midi_data = pretty_midi.PrettyMIDI(music_sheet_filename)\n",
    "\n",
    "\n",
    "for instrument in midi_data.instruments:\n",
    "    for note in instrument.notes:\n",
    "        if note.pitch != 60:\n",
    "            continue\n",
    "\n",
    "        print(instrument, note)"
   ]
  }
 ],
 "metadata": {
  "interpreter": {
   "hash": "bf00c7575e09074cb6e24656f5a0cab7f20ce4b75deab46d60ea6b56765bd833"
  },
  "kernelspec": {
   "display_name": "Python 3.7.9 64-bit ('venv': venv)",
   "language": "python",
   "name": "python3"
  },
  "language_info": {
   "codemirror_mode": {
    "name": "ipython",
    "version": 3
   },
   "file_extension": ".py",
   "mimetype": "text/x-python",
   "name": "python",
   "nbconvert_exporter": "python",
   "pygments_lexer": "ipython3",
   "version": "3.7.9"
  },
  "orig_nbformat": 4
 },
 "nbformat": 4,
 "nbformat_minor": 2
}
